{
 "cells": [
  {
   "cell_type": "markdown",
   "metadata": {},
   "source": [
    "Before we start, let us ensure that RepLAB is on the path. Please modify the line below to correspond to your RepLAB installation folder (or add RepLAB to your MATLAB/Octave path)."
   ]
  },
  {
   "cell_type": "code",
   "execution_count": 4,
   "metadata": {
    "collapsed": true,
    "jupyter": {
     "outputs_hidden": true
    }
   },
   "outputs": [
    {
     "name": "stdout",
     "output_type": "stream",
     "text": [
      "VPI is already in the path\n",
      "MOxUnit is already in the path\n",
      "YALMIP is already in the path\n",
      "Adding embedded SDPT3 to the path. Please run 'install_sdpt3' to complete the setup of this solver\n",
      "MOcov is already in the path\n",
      "\n",
      "---------------------------------------------------------------------------\n",
      "SDPT3 installation script\n",
      "   Directory: /home/denis/w/replab/external/SDPT3\n",
      "   Matlab 9.4.0.813654 (R2018a) on GLNXA64\n",
      "---------------------------------------------------------------------------\n",
      "Looking for existing binaries...found!\n",
      "   If for some reason you need to rebuild the binaries, use this command:\n",
      "      install_sdpt3 -rebuild\n",
      "---------------------------------------------------------------------------\n",
      "Adding SDPT3 to the Matlab path:\n",
      "   Base...already there.\n",
      "   Solver...added.\n",
      "   HSDSolver...added.\n",
      "   Binaries...added.\n",
      "   Examples...added.\n",
      "Please save the Matlab path if you want to use SDPT3 from any directory.\n",
      "---------------------------------------------------------------------------\n",
      "SDPT3 has been succesfully installed.\n",
      "For more information, type \"help sdpt3\" or see the user guide.\n",
      "---------------------------------------------------------------------------\n",
      "\n"
     ]
    }
   ],
   "source": [
    "run ~/software/replab/replab_addpaths(2,1)\n",
    "install_sdpt3"
   ]
  },
  {
   "cell_type": "markdown",
   "metadata": {},
   "source": [
    "# Permutation groups, application to probability distributions\n",
    "\n",
    "Reading recommendation: [Linear Representations of Finite Groups](https://link.springer.com/book/10.1007/978-1-4684-9458-7), Jean-Pierre Serre\n",
    "\n",
    "Consider the probability distribution $P_\\text{A}(a)$ for $a=1,2,3,4$ corresponding to the observations of a measurement with four outcomes.\n",
    "\n",
    "In the *device-independent* framework [see the review](https://journals.aps.org/rmp/abstract/10.1103/RevModPhys.86.419), the particular labels attached to these outcomes do not matter.\n",
    "\n",
    "Thus, the index $a$ can be relabeled without changing the underlying physics using a [permutation](https://en.wikipedia.org/wiki/Permutation).\n",
    "\n",
    "For permutations, we use the convention that permutations are described using a row vector of their images; indices are 1-based (Matlab/Octave).\n",
    "\n",
    "Thus we write as follows \n",
    "\n",
    "- a cyclic shift of all 4 elements,\n",
    "- a cyclic shift of the first three elements."
   ]
  },
  {
   "cell_type": "code",
   "execution_count": 11,
   "metadata": {},
   "outputs": [
    {
     "name": "stdout",
     "output_type": "stream",
     "text": [
      "\n",
      "c4 =\n",
      "\n",
      "     2     3     4     1\n",
      "\n",
      "\n",
      "c3 =\n",
      "\n",
      "     2     3     1     4\n",
      "\n"
     ]
    }
   ],
   "source": [
    "c4 = [2 3 4 1]\n",
    "c3 = [2 3 1 4]"
   ]
  },
  {
   "cell_type": "markdown",
   "metadata": {},
   "source": [
    "Remark that when writing permutations, we implicitly assume the size of the domain (here, 4). In RepLAB, permutations of different sizes cannot be composed. This is in contrast to most computer algebra systems that represent permutations in a more abstract fashion, using a product of cycles.\n",
    "\n",
    "To write the composition $c_4 \\cdot c_3$, we need to decide whether the action of $c_4$ and $c_3$ on labels is a [left action or a right action](https://en.wikipedia.org/wiki/Group_action_(mathematics)#Definition).\n",
    "\n",
    "In physics, the left action convention is prevalent, while in computational group theory, the right action is used.\n",
    "\n",
    "RepLAB uses the left action convention.\n",
    "\n",
    "To compose two permutations, we can construct the group of all permutations of four elements, $\\mathcal{S}_4$, and use the `compose` method of that group.\n",
    "\n",
    "We then verify that the left action convention works."
   ]
  },
  {
   "cell_type": "code",
   "execution_count": 12,
   "metadata": {},
   "outputs": [
    {
     "name": "stdout",
     "output_type": "stream",
     "text": [
      "\n",
      "S4 = \n",
      "\n",
      "Permutations acting on 4 elements\n",
      "  domainSize: 4           \n",
      "    identity: [1, 2, 3, 4]\n",
      "generator(1): [2, 3, 4, 1]\n",
      "generator(2): [2, 1, 3, 4]\n",
      "       order: 24          \n",
      "\n",
      "c4c3 =\n",
      "\n",
      "     3     4     2     1\n",
      "\n"
     ]
    }
   ],
   "source": [
    "S4 = replab.S(4) % shortcut for S4 = replab.Permutations(4)\n",
    "c4c3 = S4.compose(c4, c3) % it corresponds to c4(c3)"
   ]
  },
  {
   "cell_type": "code",
   "execution_count": 14,
   "metadata": {},
   "outputs": [
    {
     "name": "stdout",
     "output_type": "stream",
     "text": [
      "\n",
      "i =\n",
      "\n",
      "     1\n",
      "\n",
      "\n",
      "img1 =\n",
      "\n",
      "     3\n",
      "\n",
      "\n",
      "img2 =\n",
      "\n",
      "     3\n",
      "\n"
     ]
    }
   ],
   "source": [
    "i = 1 % replace by 2,3,4 as well\n",
    "img1 = c4c3(i)\n",
    "img2 = c4(c3(i))"
   ]
  },
  {
   "cell_type": "markdown",
   "metadata": {},
   "source": [
    "## Representations\n",
    "\n",
    "Linear representations represent the action of a group on a vector space, in a way that preserves the group structure and the vector space structure, see [Definition](https://en.wikipedia.org/wiki/Representation_theory_of_finite_groups#Linear_representations).\n",
    "\n",
    "A permutation group $G$ that permutes $n$ indices (i.e. $G \\subseteq \\mathcal{S}_4$) acts naturally on vectors $\\in \\mathbb{R}^n$ by permuting their coordinates; this is the *natural representation*.\n",
    "\n",
    "Finite groups are fully described by their [set of generators](https://en.wikipedia.org/wiki/Generating_set_of_a_group), with the property that every group element can be written as a product of generators.\n",
    "\n",
    "Thus, we can describe a representation by the matrices that represent the action of the generators.\n",
    "\n",
    "Compare below `S4.generator(1)`, `S4.generator(2)` to `rho.images{1}` and `rho.images{2}` respectively."
   ]
  },
  {
   "cell_type": "code",
   "execution_count": 26,
   "metadata": {},
   "outputs": [
    {
     "name": "stdout",
     "output_type": "stream",
     "text": [
      "\n",
      "S4 = \n",
      "\n",
      "Permutations acting on 4 elements\n",
      "  domainSize: 4           \n",
      "    identity: [1, 2, 3, 4]\n",
      "generator(1): [2, 3, 4, 1]\n",
      "generator(2): [2, 1, 3, 4]\n",
      "       order: 24          \n",
      "\n",
      "rho = \n",
      "\n",
      "Orthogonal real representation of dimension 4\n",
      "dimension: 4                                               \n",
      "    field: 'R'                                             \n",
      "    group: Permutations acting on 4 elements               \n",
      "images{1}: [0, 0, 0, 1; 1, 0, 0, 0; 0, 1, 0, 0; 0, 0, 1, 0]\n",
      "images{2}: [0, 1, 0, 0; 1, 0, 0, 0; 0, 0, 1, 0; 0, 0, 0, 1]\n"
     ]
    }
   ],
   "source": [
    "S4\n",
    "rho = S4.naturalRep"
   ]
  },
  {
   "cell_type": "markdown",
   "metadata": {},
   "source": [
    "### Representation: image of a group element\n",
    "\n",
    "A (unitary) representation provides a unitary matrix $\\rho_g$ for each group element $g$.\n",
    "\n",
    "We can ask RepLAB to compute the image of any group element."
   ]
  },
  {
   "cell_type": "code",
   "execution_count": 27,
   "metadata": {},
   "outputs": [
    {
     "name": "stdout",
     "output_type": "stream",
     "text": [
      "\n",
      "ans =\n",
      "\n",
      "     0     0     1     0\n",
      "     1     0     0     0\n",
      "     0     0     0     1\n",
      "     0     1     0     0\n",
      "\n"
     ]
    }
   ],
   "source": [
    "g = [2 4 1 3];\n",
    "full(rho.image(g)) % \"full\" used to show the full matrix instead of the sparse matrix elements"
   ]
  },
  {
   "cell_type": "markdown",
   "metadata": {},
   "source": [
    "### Decomposing representations\n",
    "\n",
    "Are there vector subspaces of $\\mathcal{R}^4$ that are invariant under $\\rho_g$ for any $g\\in G$?\n",
    "\n",
    "For sure, the vector $\\vec{v} = (1,1,1,1)^\\top$ is invariant under any relabeling -- and thus the subspace spanned by $\\vec{v}$ is invariant as well.\n",
    "\n",
    "We can thus restrict $\\rho$ to that subspace; the method `subRep` requires row vectors. Per our convention, those row vectors need to be orthogonal but they do not need to be normalized.\n",
    "\n",
    "We then look at how this subrepresentation acts on its subspace."
   ]
  },
  {
   "cell_type": "code",
   "execution_count": 32,
   "metadata": {},
   "outputs": [
    {
     "name": "stdout",
     "output_type": "stream",
     "text": [
      "\n",
      "rho1 = \n",
      "\n",
      "Subrepresentation\n",
      "dimension: 1                                            \n",
      "    field: 'R'                                          \n",
      "    group: Permutations acting on 4 elements            \n",
      "   parent: Orthogonal real representation of dimension 4\n",
      "   U(1,:): [1, 1, 1, 1]/2                               \n",
      "\n",
      "ans =\n",
      "\n",
      "     1\n",
      "\n",
      "\n",
      "ans =\n",
      "\n",
      "     1\n",
      "\n"
     ]
    }
   ],
   "source": [
    "rho1 = rho.subRep([1 1 1 1])\n",
    "rho1.image(S4.generator(1))\n",
    "rho1.image(S4.generator(2))"
   ]
  },
  {
   "cell_type": "markdown",
   "metadata": {},
   "source": [
    "The image of any group element is the identity for $\\rho_1$: by convention, such representations are called *trivial representations*.\n",
    "\n",
    "The subspace orthogonal to $\\vec{v}$ is also a subrepresentation (see [Maschke's theorem](https://en.wikipedia.org/wiki/Maschke%27s_theorem), and Jean-Pierre Serre chapter 1). For the symmetric group, that subspace corresponds to the [standard representation](https://en.wikipedia.org/wiki/Representation_theory_of_the_symmetric_group#Low-dimensional_representations)."
   ]
  },
  {
   "cell_type": "code",
   "execution_count": 36,
   "metadata": {},
   "outputs": [
    {
     "name": "stdout",
     "output_type": "stream",
     "text": [
      "\n",
      "rho2 = \n",
      "\n",
      "Subrepresentation\n",
      "dimension: 3                                            \n",
      "    field: 'R'                                          \n",
      "    group: Permutations acting on 4 elements            \n",
      "   parent: Orthogonal real representation of dimension 4\n",
      "   U(1,:): [1, -1, 1, -1]/2                             \n",
      "   U(2,:): [1, 1, -1, -1]/2                             \n",
      "   U(3,:): [1, -1, -1, 1]/2                             \n"
     ]
    }
   ],
   "source": [
    "rho2 = rho.subRep([1 -1 1 -1; 1 1 -1 -1; 1 -1 -1 1])"
   ]
  },
  {
   "cell_type": "code",
   "execution_count": 37,
   "metadata": {},
   "outputs": [
    {
     "name": "stdout",
     "output_type": "stream",
     "text": [
      "\n",
      "ans =\n",
      "\n",
      "    -1     0     0\n",
      "     0     0     1\n",
      "     0    -1     0\n",
      "\n",
      "\n",
      "ans =\n",
      "\n",
      "     0     0    -1\n",
      "     0     1     0\n",
      "    -1     0     0\n",
      "\n"
     ]
    }
   ],
   "source": [
    "rho2.image(S4.generator(1))\n",
    "rho2.image(S4.generator(2))"
   ]
  },
  {
   "cell_type": "markdown",
   "metadata": {},
   "source": [
    "### Decomposing representations\n",
    "\n",
    "To decompose a representation, one finds invariant subspaces and splits subrepresentations accordingly.\n",
    "\n",
    "RepLAB provides a way to compute this decomposition numerically.\n",
    "\n",
    "We do that, and verify that the subrepresentations match our intuition above."
   ]
  },
  {
   "cell_type": "code",
   "execution_count": 40,
   "metadata": {},
   "outputs": [
    {
     "name": "stdout",
     "output_type": "stream",
     "text": [
      "\n",
      "I = \n",
      "\n",
      "replab.Irreducible\n",
      "      parent: Orthogonal real representation of dimension 4\n",
      "component(1): Isotypic component R(1)                      \n",
      "component(2): Isotypic component R(3)                      \n",
      "\n",
      "ans = \n",
      "\n",
      "Real-type real irreducible subrepresentation\n",
      "          dimension: 1                                            \n",
      "              field: 'R'                                          \n",
      "              group: Permutations acting on 4 elements            \n",
      "             parent: Orthogonal real representation of dimension 4\n",
      "realDivisionAlgebra: R                                            \n",
      "             U(1,:): [1, 1, 1, 1]/2                               \n",
      "\n",
      "ans = \n",
      "\n",
      "Real-type real irreducible subrepresentation\n",
      "          dimension: 3                                            \n",
      "              field: 'R'                                          \n",
      "              group: Permutations acting on 4 elements            \n",
      "             parent: Orthogonal real representation of dimension 4\n",
      "realDivisionAlgebra: R                                            \n",
      "             U(1,:): [3, -1, -1, -1]/sqrt(12)                     \n",
      "             U(2,:): [0, 2, -1, -1]/sqrt(6)                       \n",
      "             U(3,:): [0, 0, 1, -1]/sqrt(2)                        \n"
     ]
    }
   ],
   "source": [
    "I = rho.decomposition\n",
    "I.component(1).copy(1)\n",
    "I.component(2).copy(1)"
   ]
  },
  {
   "cell_type": "code",
   "execution_count": null,
   "metadata": {},
   "outputs": [],
   "source": []
  }
 ],
 "metadata": {
  "kernelspec": {
   "display_name": "MATLAB",
   "language": "matlab",
   "name": "imatlab"
  },
  "language_info": {
   "codemirror_mode": "octave",
   "file_extension": ".m",
   "mimetype": "text/x-matlab",
   "name": "matlab",
   "nbconvert_exporter": "imatlab._exporter.MatlabExporter",
   "pygments_lexer": "matlab",
   "version": "9.4.0.813654 (R2018a)"
  }
 },
 "nbformat": 4,
 "nbformat_minor": 4
}
